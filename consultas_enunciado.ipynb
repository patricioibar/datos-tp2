{
 "cells": [
  {
   "cell_type": "markdown",
   "id": "a1a38e65",
   "metadata": {},
   "source": [
    "# Consultas propuestas por el enunciado"
   ]
  },
  {
   "cell_type": "markdown",
   "id": "e0d22a82",
   "metadata": {},
   "source": [
    "#### Imports y definición de funciones"
   ]
  },
  {
   "cell_type": "code",
   "execution_count": 1,
   "id": "8ce87e39",
   "metadata": {},
   "outputs": [],
   "source": [
    "from pyspark.sql import *\n",
    "from pyspark.sql.functions import *\n",
    "from pyspark import SparkContext\n",
    "from pyspark.sql import SQLContext\n",
    "\n",
    "import re\n",
    "\n",
    "import warnings\n",
    "# suprimir future warnings\n",
    "warnings.simplefilter(action='ignore', category=FutureWarning)"
   ]
  },
  {
   "cell_type": "code",
   "execution_count": 2,
   "id": "86a634ab",
   "metadata": {},
   "outputs": [
    {
     "name": "stderr",
     "output_type": "stream",
     "text": [
      "WARNING: Using incubator modules: jdk.incubator.vector\n",
      "Using Spark's default log4j profile: org/apache/spark/log4j2-defaults.properties\n",
      "25/09/26 16:15:48 WARN Utils: Your hostname, LENOVOID-ubuntu, resolves to a loopback address: 127.0.1.1; using 192.168.10.209 instead (on interface wlp2s0)\n",
      "25/09/26 16:15:48 WARN Utils: Set SPARK_LOCAL_IP if you need to bind to another address\n",
      "Using Spark's default log4j profile: org/apache/spark/log4j2-defaults.properties\n",
      "Setting default log level to \"WARN\".\n",
      "To adjust logging level use sc.setLogLevel(newLevel). For SparkR, use setLogLevel(newLevel).\n",
      "25/09/26 16:15:49 WARN NativeCodeLoader: Unable to load native-hadoop library for your platform... using builtin-java classes where applicable\n"
     ]
    }
   ],
   "source": [
    "spark = SparkSession.builder\\\n",
    "    .master(\"local[*]\") \\\n",
    "    .appName(\"ConsultasEnunciado\") \\\n",
    "    .getOrCreate()\n",
    "sc = spark.sparkContext\n",
    "sqlContext = SQLContext(sc)"
   ]
  },
  {
   "cell_type": "markdown",
   "id": "d668b24e",
   "metadata": {},
   "source": [
    "### 1. ¿Cuál es el Estado que más descuentos tiene en total? ¿y en promedio?"
   ]
  },
  {
   "cell_type": "markdown",
   "id": "38ea89f2",
   "metadata": {},
   "source": [
    "#### Hipótesis\n",
    "- Los estados con más descuentos son aquellos que tienen más órdenes registradas con un `discount_amount` no nulo y mayor a ceros.\n",
    "- Se tienen en cuenta los estados de la columna `billing_address`.\n",
    "- Se considera que el estado está definido por un conjunto de dos letras mayúsculas seguido de un espacio y cinco dígitos (código postal).\n",
    "- No se consideran los estados que no están definidos por el anterior patrón, ni tampoco las filas con un valor nulo en `billing_address`."
   ]
  },
  {
   "cell_type": "markdown",
   "id": "21c0c630",
   "metadata": {},
   "source": [
    "#### Limpieza de datos para la tabla de órdenes"
   ]
  },
  {
   "cell_type": "code",
   "execution_count": null,
   "id": "a84e1842",
   "metadata": {},
   "outputs": [],
   "source": [
    "def state_and_zip_code(address):\n",
    "    if address is None:\n",
    "        return \"UNDEFINED\", None\n",
    "    pattern = r'([A-Z]{2})\\s(\\d{5})'\n",
    "    match = re.search(pattern, address)\n",
    "    if match:\n",
    "        return match.group(1), int(match.group(2))\n",
    "    return \"UNDEFINED\", None\n",
    "\n",
    "def retain_orders_columns(row: Row):\n",
    "    state, zip_code = state_and_zip_code(row.billing_address)\n",
    "    status = \"UNDEFINED\" if row.status is None else row.status.strip().upper()\n",
    "    return (\n",
    "        row.customer_id,\n",
    "        row.discount_amount,\n",
    "        status,\n",
    "        state,\n",
    "        zip_code,\n",
    "    )\n",
    "    \n",
    "ordersIdx = {\n",
    "    \"customer_id\": 0,\n",
    "    \"discount_amount\": 1,\n",
    "    \"status\": 2,\n",
    "    \"state\": 3,\n",
    "    \"zip_code\": 4,\n",
    "}"
   ]
  },
  {
   "cell_type": "code",
   "execution_count": null,
   "id": "52014790",
   "metadata": {},
   "outputs": [
    {
     "name": "stderr",
     "output_type": "stream",
     "text": [
      "25/09/26 16:16:09 WARN CSVHeaderChecker: CSV header does not conform to the schema.\n",
      " Header: , order_id, customer_id, order_date, status, payment_method, shipping_address, billing_address, discount_amount, tax_amount, shipping_cost, total_amount, currency, created_at, updated_at, subtotal\n",
      " Schema: _c0, order_id, customer_id, order_date, status, payment_method, shipping_address, billing_address, discount_amount, tax_amount, shipping_cost, total_amount, currency, created_at, updated_at, subtotal\n",
      "Expected: _c0 but found: \n",
      "CSV file: file:///home/pat/Documents/GitHub/datos-tp2/data/orders.csv\n",
      "                                                                                \r"
     ]
    },
    {
     "data": {
      "text/plain": [
       "(447917, 0.0, 'COMPLETED', 'AP', 90901)"
      ]
     },
     "execution_count": 4,
     "metadata": {},
     "output_type": "execute_result"
    }
   ],
   "source": [
    "orders = sqlContext.read.csv(\n",
    "    'data/orders.csv',\n",
    "    header=True, inferSchema=True\n",
    ")\n",
    "ordersRDD = orders.rdd.map(retain_orders_columns).persist()\n",
    "ordersRDD.first()"
   ]
  },
  {
   "cell_type": "markdown",
   "id": "fb589a2d",
   "metadata": {},
   "source": [
    "#### Resolución"
   ]
  },
  {
   "cell_type": "code",
   "execution_count": 5,
   "id": "dce4bfd1",
   "metadata": {},
   "outputs": [],
   "source": [
    "discountAndTotalOrdersByState = ordersRDD \\\n",
    "    .filter(lambda x: x[ordersIdx[\"state\"]] != \"UNDEFINED\") \\\n",
    "    .map(\n",
    "        lambda row: (\n",
    "            row[ordersIdx[\"state\"]], \n",
    "            (1 if (row[ordersIdx[\"discount_amount\"]] is not None and row[ordersIdx[\"discount_amount\"]] > 0) else 0, 1)\n",
    "        )) \\\n",
    "    .reduceByKey(lambda a, b: (a[0] + b[0], a[1] + b[1])) \\\n",
    "    .cache()\n",
    "# (estado, (#ordenes con descuentos, #ordenes totales))"
   ]
  },
  {
   "cell_type": "code",
   "execution_count": 6,
   "id": "37d2bc9e",
   "metadata": {},
   "outputs": [
    {
     "name": "stderr",
     "output_type": "stream",
     "text": [
      "                                                                                \r"
     ]
    }
   ],
   "source": [
    "highestCount = discountAndTotalOrdersByState\\\n",
    "    .reduce(lambda a, b: a if a[1][0] > b[1][0] else b)\n",
    "\n",
    "highestAvg = discountAndTotalOrdersByState\\\n",
    "    .reduce(lambda a, b: a if a[1][0]/a[1][1] > b[1][0]/b[1][1] else b)"
   ]
  },
  {
   "cell_type": "code",
   "execution_count": null,
   "id": "ea5b8f77",
   "metadata": {},
   "outputs": [
    {
     "name": "stdout",
     "output_type": "stream",
     "text": [
      "El Estado con más órdenes con descuentos es AE con 30858 órdenes con descuentos.\n",
      "\n",
      "El Estado con el mayor promedio de descuentos es KY con un promedio de 0.22.\n"
     ]
    }
   ],
   "source": [
    "print(f\"El Estado con más órdenes con descuentos es {highestCount[0]} con {highestCount[1][0]} órdenes con descuentos.\")\n",
    "\n",
    "print(f\"\\nEl Estado con el mayor promedio de descuentos es {highestAvg[0]} con un promedio de {highestAvg[1][0]/highestAvg[1][1]:.2f}.\")"
   ]
  },
  {
   "cell_type": "markdown",
   "id": "831cdfc0",
   "metadata": {},
   "source": [
    "### 2. ¿Cuáles son los 5 códigos postales más comunes para las órdenes con estado 'Refunded'? \n",
    "###    ¿Y cuál es el nombre más frecuente entre los clientes de esas direcciones?"
   ]
  },
  {
   "cell_type": "markdown",
   "id": "24ef7842",
   "metadata": {},
   "source": [
    "#### Limpieza de datos para la tabla de usuarios"
   ]
  },
  {
   "cell_type": "code",
   "execution_count": 18,
   "id": "1ac37b9d",
   "metadata": {},
   "outputs": [],
   "source": [
    "def retain_customers_columns(row: Row):\n",
    "    first_name = \"UNDEFINED\" if row.first_name is None else row.first_name.strip().upper()\n",
    "    segment = \"UNDEFINED\" if row.customer_segment is None else row.customer_segment.strip().upper()\n",
    "    is_active = False if row.is_active is None else row.is_active\n",
    "    marketing_consent = False if row.marketing_consent is None else row.marketing_consent\n",
    "    return (\n",
    "        row.customer_id,\n",
    "        first_name,\n",
    "        row.postal_code,\n",
    "        segment,\n",
    "        is_active,\n",
    "        marketing_consent,\n",
    "    )\n",
    "    \n",
    "customersIdx = {\n",
    "    \"id\": 0,\n",
    "    \"name\": 1,\n",
    "    \"zip_code\": 2,\n",
    "    \"segment\": 3,\n",
    "    \"is_active\": 4,\n",
    "    \"consent\": 5,\n",
    "}"
   ]
  },
  {
   "cell_type": "code",
   "execution_count": 19,
   "id": "10e78365",
   "metadata": {},
   "outputs": [
    {
     "name": "stderr",
     "output_type": "stream",
     "text": [
      "25/09/26 16:53:33 WARN CSVHeaderChecker: CSV header does not conform to the schema.\n",
      " Header: , customer_id, email, first_name, last_name, phone, date_of_birth, gender, country, city, postal_code, address, registration_date, last_login, is_active, customer_segment, marketing_consent\n",
      " Schema: _c0, customer_id, email, first_name, last_name, phone, date_of_birth, gender, country, city, postal_code, address, registration_date, last_login, is_active, customer_segment, marketing_consent\n",
      "Expected: _c0 but found: \n",
      "CSV file: file:///home/pat/Documents/GitHub/datos-tp2/data/customers.csv\n",
      "                                                                                \r"
     ]
    },
    {
     "data": {
      "text/plain": [
       "(1, 'KAYLA', 70351, 'REGULAR', True, True)"
      ]
     },
     "execution_count": 19,
     "metadata": {},
     "output_type": "execute_result"
    }
   ],
   "source": [
    "customers = sqlContext.read.csv(\n",
    "    'data/customers.csv',\n",
    "    header=True, inferSchema=True\n",
    ")\n",
    "customersRDD = customers.rdd.map(retain_customers_columns).persist()\n",
    "customersRDD.first()"
   ]
  },
  {
   "cell_type": "markdown",
   "id": "76ddad82",
   "metadata": {},
   "source": [
    "#### Resolución"
   ]
  },
  {
   "cell_type": "code",
   "execution_count": 20,
   "id": "a1d497c6",
   "metadata": {},
   "outputs": [
    {
     "name": "stderr",
     "output_type": "stream",
     "text": [
      "                                                                                \r"
     ]
    }
   ],
   "source": [
    "zipCodesWithMostRefundedOrdersCount = ordersRDD \\\n",
    "    .filter(\n",
    "        lambda row: (\n",
    "            row[ordersIdx[\"zip_code\"]] is not None\n",
    "            and row[ordersIdx[\"status\"]] == \"REFUNDED\"\n",
    "        )\n",
    "    ) \\\n",
    "    .map(lambda row: (row[ordersIdx[\"zip_code\"]], 1)) \\\n",
    "    .reduceByKey(lambda a, b: a + b) \\\n",
    "    .takeOrdered(5, key=lambda x: -x[1])\n",
    "\n",
    "topRefundedZipCodes = [zip_code for zip_code, _ in zipCodesWithMostRefundedOrdersCount]"
   ]
  },
  {
   "cell_type": "code",
   "execution_count": 30,
   "id": "f2b468ff",
   "metadata": {},
   "outputs": [],
   "source": [
    "mostFrecuentNameInTopRefundedZipCodes = customersRDD \\\n",
    "    .filter(\n",
    "        lambda row: (\n",
    "            row[customersIdx[\"zip_code\"]] in topRefundedZipCodes\n",
    "            and row[customersIdx[\"name\"]] != \"UNDEFINED\"\n",
    "        )\n",
    "    ) \\\n",
    "    .map(lambda row: (row[customersIdx[\"name\"]], 1)) \\\n",
    "    .reduceByKey(lambda a, b: a + b) \\\n",
    "    .reduce(lambda a, b: a if a[1] > b[1] else b)"
   ]
  },
  {
   "cell_type": "code",
   "execution_count": 31,
   "id": "11149794",
   "metadata": {},
   "outputs": [
    {
     "name": "stdout",
     "output_type": "stream",
     "text": [
      "Los 5 códigos postales con más órdenes reembolsadas son:\n",
      "\tCodigo\tÓrdenes reembolsadas\n",
      "\t31571\t6\n",
      "\t14396\t5\n",
      "\t9045\t5\n",
      "\t38151\t5\n",
      "\t91623\t5\n",
      "\n",
      "El nombre más frecuente entre los clientes de esos códigos postales es: MICHAEL\n"
     ]
    }
   ],
   "source": [
    "print(\"Los 5 códigos postales con más órdenes reembolsadas son:\")\n",
    "print(\"\\tCodigo\\tÓrdenes reembolsadas\")\n",
    "for zip_code, count in zipCodesWithMostRefundedOrdersCount:\n",
    "    print(f\"\\t{zip_code}\\t{count}\")\n",
    "\n",
    "print(f\"\\nEl nombre más frecuente entre los clientes de esos códigos postales es: {mostFrecuentNameInTopRefundedZipCodes[0]}\")"
   ]
  },
  {
   "cell_type": "markdown",
   "id": "70a9fb10",
   "metadata": {},
   "source": [
    "### 3. Para cada tipo de pago y segmento de cliente, <br>devolver la suma y el promedio expresado como porcentaje <br>de clientes activos y de consentimiento de marketing"
   ]
  },
  {
   "cell_type": "markdown",
   "id": "450f049e",
   "metadata": {},
   "source": [
    "#### Resolución"
   ]
  },
  {
   "cell_type": "markdown",
   "id": "e9df7ec5",
   "metadata": {},
   "source": [
    "### 4. Para los productos que contienen en su descripción la palabra \"stuff\", <br> calcular el peso total de su inventario agrupado por marca, <br> mostrar sólo la marca y el peso total de las 5 más pesadas"
   ]
  },
  {
   "cell_type": "markdown",
   "id": "600a84a1",
   "metadata": {},
   "source": [
    "#### Limpieza y preparación de columnas"
   ]
  },
  {
   "cell_type": "markdown",
   "id": "fe72be20",
   "metadata": {},
   "source": [
    "#### Resolución"
   ]
  },
  {
   "cell_type": "markdown",
   "id": "d356097d",
   "metadata": {},
   "source": [
    "### 5. Calcular el porcentaje de productos cuyo stock es al menos 20% <br> más alto que el stock promedio de su marca"
   ]
  },
  {
   "cell_type": "markdown",
   "id": "1cd7f7e3",
   "metadata": {},
   "source": [
    "#### Limpieza y preparación de columnas"
   ]
  },
  {
   "cell_type": "markdown",
   "id": "5b470521",
   "metadata": {},
   "source": [
    "#### Resolución"
   ]
  },
  {
   "cell_type": "markdown",
   "id": "d1cb2820",
   "metadata": {},
   "source": [
    "### 6. Obtener la cantidad de órdenes que no hayan comprado ninguno de los 10 productos más vendidos"
   ]
  },
  {
   "cell_type": "markdown",
   "id": "78f45711",
   "metadata": {},
   "source": [
    "#### Limpieza y preparación de columnas"
   ]
  },
  {
   "cell_type": "markdown",
   "id": "916d7d1e",
   "metadata": {},
   "source": [
    "#### Resolución"
   ]
  }
 ],
 "metadata": {
  "kernelspec": {
   "display_name": "base",
   "language": "python",
   "name": "python3"
  },
  "language_info": {
   "codemirror_mode": {
    "name": "ipython",
    "version": 3
   },
   "file_extension": ".py",
   "mimetype": "text/x-python",
   "name": "python",
   "nbconvert_exporter": "python",
   "pygments_lexer": "ipython3",
   "version": "3.13.5"
  }
 },
 "nbformat": 4,
 "nbformat_minor": 5
}
