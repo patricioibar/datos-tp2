{
 "cells": [
  {
   "cell_type": "markdown",
   "id": "a1a38e65",
   "metadata": {},
   "source": [
    "# Consultas propuestas por el enunciado"
   ]
  },
  {
   "cell_type": "markdown",
   "id": "e0d22a82",
   "metadata": {},
   "source": [
    "#### Imports y definición de funciones"
   ]
  },
  {
   "cell_type": "code",
   "execution_count": 4,
   "id": "8ce87e39",
   "metadata": {},
   "outputs": [],
   "source": [
    "from pyspark.sql import *\n",
    "from pyspark.sql.functions import *\n",
    "from pyspark import SparkContext\n",
    "from pyspark.sql import SQLContext\n",
    "import warnings\n",
    "# suprimir future warnings\n",
    "warnings.simplefilter(action='ignore', category=FutureWarning)"
   ]
  },
  {
   "cell_type": "code",
   "execution_count": 6,
   "id": "86a634ab",
   "metadata": {},
   "outputs": [],
   "source": [
    "spark = SparkSession.builder \\\n",
    "    .appName(\"ConsultasEnunciado\") \\\n",
    "    .getOrCreate()\n",
    "sc = spark.sparkContext\n",
    "sqlContext = SQLContext(sc)"
   ]
  },
  {
   "cell_type": "markdown",
   "id": "d668b24e",
   "metadata": {},
   "source": [
    "### 1. ¿Cuál es el Estado que más descuentos tiene en total? ¿y en promedio?"
   ]
  },
  {
   "cell_type": "markdown",
   "id": "4bb52f6c",
   "metadata": {},
   "source": [
    "#### Limpieza y preparación de columnas"
   ]
  },
  {
   "cell_type": "code",
   "execution_count": null,
   "id": "52014790",
   "metadata": {},
   "outputs": [
    {
     "name": "stderr",
     "output_type": "stream",
     "text": [
      "                                                                                \r"
     ]
    }
   ],
   "source": [
    "orders = sqlContext.read.csv(\n",
    "    'data/orders.csv',\n",
    "    header=True, inferSchema=True\n",
    ")"
   ]
  },
  {
   "cell_type": "markdown",
   "id": "fb589a2d",
   "metadata": {},
   "source": [
    "#### Resolución"
   ]
  },
  {
   "cell_type": "markdown",
   "id": "831cdfc0",
   "metadata": {},
   "source": [
    "### 2. ¿Cuáles son los 5 códigos postales más comunes para las órdenes con estado 'Refunded'? \n",
    "###    ¿Y cuál es el nombre más frecuente entre los clientes de esas direcciones?"
   ]
  },
  {
   "cell_type": "markdown",
   "id": "85248c2d",
   "metadata": {},
   "source": [
    "#### Limpieza y preparación de columnas"
   ]
  },
  {
   "cell_type": "markdown",
   "id": "76ddad82",
   "metadata": {},
   "source": [
    "#### Resolución"
   ]
  },
  {
   "cell_type": "markdown",
   "id": "70a9fb10",
   "metadata": {},
   "source": [
    "### 3. Para cada tipo de pago y segmento de cliente, <br>devolver la suma y el promedio expresado como porcentaje <br>de clientes activos y de consentimiento de marketing"
   ]
  },
  {
   "cell_type": "markdown",
   "id": "450f049e",
   "metadata": {},
   "source": [
    "#### Resolución"
   ]
  },
  {
   "cell_type": "markdown",
   "id": "e9df7ec5",
   "metadata": {},
   "source": [
    "### 4. Para los productos que contienen en su descripción la palabra \"stuff\", <br> calcular el peso total de su inventario agrupado por marca, <br> mostrar sólo la marca y el peso total de las 5 más pesadas"
   ]
  },
  {
   "cell_type": "markdown",
   "id": "600a84a1",
   "metadata": {},
   "source": [
    "#### Limpieza y preparación de columnas"
   ]
  },
  {
   "cell_type": "markdown",
   "id": "fe72be20",
   "metadata": {},
   "source": [
    "#### Resolución"
   ]
  },
  {
   "cell_type": "markdown",
   "id": "d356097d",
   "metadata": {},
   "source": [
    "### 5. Calcular el porcentaje de productos cuyo stock es al menos 20% <br> más alto que el stock promedio de su marca"
   ]
  },
  {
   "cell_type": "markdown",
   "id": "1cd7f7e3",
   "metadata": {},
   "source": [
    "#### Limpieza y preparación de columnas"
   ]
  },
  {
   "cell_type": "markdown",
   "id": "5b470521",
   "metadata": {},
   "source": [
    "#### Resolución"
   ]
  },
  {
   "cell_type": "markdown",
   "id": "d1cb2820",
   "metadata": {},
   "source": [
    "### 6. Obtener la cantidad de órdenes que no hayan comprado ninguno de los 10 productos más vendidos"
   ]
  },
  {
   "cell_type": "markdown",
   "id": "78f45711",
   "metadata": {},
   "source": [
    "#### Limpieza y preparación de columnas"
   ]
  },
  {
   "cell_type": "markdown",
   "id": "916d7d1e",
   "metadata": {},
   "source": [
    "#### Resolución"
   ]
  }
 ],
 "metadata": {
  "kernelspec": {
   "display_name": "base",
   "language": "python",
   "name": "python3"
  },
  "language_info": {
   "codemirror_mode": {
    "name": "ipython",
    "version": 3
   },
   "file_extension": ".py",
   "mimetype": "text/x-python",
   "name": "python",
   "nbconvert_exporter": "python",
   "pygments_lexer": "ipython3",
   "version": "3.13.5"
  }
 },
 "nbformat": 4,
 "nbformat_minor": 5
}
