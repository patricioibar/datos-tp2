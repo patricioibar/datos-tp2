{
 "cells": [
  {
   "cell_type": "markdown",
   "id": "a1a38e65",
   "metadata": {},
   "source": [
    "# Consultas propuestas por el enunciado"
   ]
  },
  {
   "cell_type": "markdown",
   "id": "e0d22a82",
   "metadata": {},
   "source": [
    "#### Imports y definición de funciones"
   ]
  },
  {
   "cell_type": "code",
   "execution_count": 1,
   "id": "8ce87e39",
   "metadata": {},
   "outputs": [],
   "source": [
    "from pyspark.sql import *\n",
    "from pyspark.sql.functions import *\n",
    "from pyspark import SparkContext\n",
    "from pyspark.sql import SQLContext\n",
    "\n",
    "import re\n",
    "\n",
    "import warnings\n",
    "# suprimir future warnings\n",
    "warnings.simplefilter(action='ignore', category=FutureWarning)"
   ]
  },
  {
   "cell_type": "code",
   "execution_count": 2,
   "id": "86a634ab",
   "metadata": {},
   "outputs": [
    {
     "name": "stderr",
     "output_type": "stream",
     "text": [
      "WARNING: Using incubator modules: jdk.incubator.vector\n",
      "Using Spark's default log4j profile: org/apache/spark/log4j2-defaults.properties\n",
      "25/10/05 20:15:15 WARN Utils: Your hostname, LENOVOID-ubuntu, resolves to a loopback address: 127.0.1.1; using 192.168.0.235 instead (on interface wlp2s0)\n",
      "25/10/05 20:15:15 WARN Utils: Set SPARK_LOCAL_IP if you need to bind to another address\n",
      "Using Spark's default log4j profile: org/apache/spark/log4j2-defaults.properties\n",
      "Setting default log level to \"WARN\".\n",
      "To adjust logging level use sc.setLogLevel(newLevel). For SparkR, use setLogLevel(newLevel).\n",
      "25/10/05 20:15:16 WARN NativeCodeLoader: Unable to load native-hadoop library for your platform... using builtin-java classes where applicable\n",
      "25/10/05 20:15:16 WARN Utils: Service 'SparkUI' could not bind on port 4040. Attempting port 4041.\n"
     ]
    }
   ],
   "source": [
    "spark = SparkSession.builder\\\n",
    "    .master(\"local[*]\") \\\n",
    "    .getOrCreate()\n",
    "sc = spark.sparkContext\n",
    "sqlContext = SQLContext(sc)"
   ]
  },
  {
   "cell_type": "markdown",
   "id": "d668b24e",
   "metadata": {},
   "source": [
    "### 1. ¿Cuál es el Estado que más descuentos tiene en total? ¿y en promedio?"
   ]
  },
  {
   "cell_type": "markdown",
   "id": "38ea89f2",
   "metadata": {},
   "source": [
    "#### Hipótesis\n",
    "- Los estados con más descuentos son aquellos que tienen más órdenes registradas con un `discount_amount` no nulo y mayor a ceros.\n",
    "- Se tienen en cuenta los estados de la columna `billing_address` de la tabla `orders`.\n",
    "- Se considera que el estado está definido por un conjunto de dos letras mayúsculas seguido de un espacio y cinco dígitos (código postal).\n",
    "- No se consideran los estados que no están definidos por el anterior patrón, ni tampoco las filas con un valor nulo en `billing_address`."
   ]
  },
  {
   "cell_type": "markdown",
   "id": "21c0c630",
   "metadata": {},
   "source": [
    "#### Limpieza de datos para la tabla de órdenes"
   ]
  },
  {
   "cell_type": "code",
   "execution_count": null,
   "id": "06d88096",
   "metadata": {},
   "outputs": [],
   "source": [
    "status_dict = {}\n",
    "with open(\"status.txt\", \"r\") as f:\n",
    "    valid_statuses = [line.strip() for line in f.readlines()]\n",
    "    id = 0\n",
    "    for status in valid_statuses:\n",
    "        status_dict[status] = id\n",
    "        id += 1\n",
    "\n",
    "bc_status = sc.broadcast(status_dict)"
   ]
  },
  {
   "cell_type": "code",
   "execution_count": 3,
   "id": "a84e1842",
   "metadata": {},
   "outputs": [],
   "source": [
    "def state_and_postal_code(address):\n",
    "    if address is None:\n",
    "        return \"UNDEFINED\", None\n",
    "    pattern = r'([A-Z]{2})\\s(\\d{5})'\n",
    "    match = re.search(pattern, address)\n",
    "    if match:\n",
    "        return match.group(1), int(match.group(2))\n",
    "    return \"UNDEFINED\", None\n",
    "\n",
    "def retain_orders_columns(row: Row):\n",
    "    state, postal_code = state_and_postal_code(row.billing_address)\n",
    "    status = \"UNDEFINED\" if row.status is None else row.status.strip().upper()\n",
    "    payment = \"UNDEFINED\" if row.payment_method is None else row.payment_method.strip().upper()\n",
    "    return (\n",
    "        row.customer_id,\n",
    "        row.discount_amount,\n",
    "        status,\n",
    "        state,\n",
    "        postal_code,\n",
    "        payment\n",
    "    )\n",
    "    \n",
    "ordersIdx = {\n",
    "    \"customer_id\": 0,\n",
    "    \"discount_amount\": 1,\n",
    "    \"status\": 2,\n",
    "    \"state\": 3,\n",
    "    \"postal_code\": 4,\n",
    "    \"payment_method\": 5,\n",
    "}"
   ]
  },
  {
   "cell_type": "code",
   "execution_count": 4,
   "id": "52014790",
   "metadata": {},
   "outputs": [
    {
     "name": "stderr",
     "output_type": "stream",
     "text": [
      "                                                                                \r"
     ]
    }
   ],
   "source": [
    "orders = sqlContext.read.csv(\n",
    "    'data/orders.csv',\n",
    "    header=True, inferSchema=True\n",
    ")\n",
    "ordersRDD = orders.rdd.map(retain_orders_columns).cache()"
   ]
  },
  {
   "cell_type": "markdown",
   "id": "fb589a2d",
   "metadata": {},
   "source": [
    "#### Resolución"
   ]
  },
  {
   "cell_type": "code",
   "execution_count": 5,
   "id": "dce4bfd1",
   "metadata": {},
   "outputs": [],
   "source": [
    "discountAndTotalOrdersByState = ordersRDD \\\n",
    "    .filter(lambda x: x[ordersIdx[\"state\"]] != \"UNDEFINED\") \\\n",
    "    .map(\n",
    "        lambda row: (\n",
    "            row[ordersIdx[\"state\"]], \n",
    "            (1 if (row[ordersIdx[\"discount_amount\"]] is not None and row[ordersIdx[\"discount_amount\"]] > 0) else 0, 1)\n",
    "        )) \\\n",
    "    .reduceByKey(lambda a, b: (a[0] + b[0], a[1] + b[1])) \\\n",
    "    .cache()\n",
    "# (estado, (#ordenes con descuentos, #ordenes totales))"
   ]
  },
  {
   "cell_type": "code",
   "execution_count": 6,
   "id": "37d2bc9e",
   "metadata": {},
   "outputs": [
    {
     "name": "stderr",
     "output_type": "stream",
     "text": [
      "25/10/05 20:15:23 WARN CSVHeaderChecker: CSV header does not conform to the schema.\n",
      " Header: , order_id, customer_id, order_date, status, payment_method, shipping_address, billing_address, discount_amount, tax_amount, shipping_cost, total_amount, currency, created_at, updated_at, subtotal\n",
      " Schema: _c0, order_id, customer_id, order_date, status, payment_method, shipping_address, billing_address, discount_amount, tax_amount, shipping_cost, total_amount, currency, created_at, updated_at, subtotal\n",
      "Expected: _c0 but found: \n",
      "CSV file: file:///home/pat/Documents/GitHub/datos-tp2/data/orders.csv\n",
      "                                                                                \r"
     ]
    }
   ],
   "source": [
    "highestCount = discountAndTotalOrdersByState\\\n",
    "    .reduce(lambda a, b: a if a[1][0] > b[1][0] else b)\n",
    "\n",
    "highestAvg = discountAndTotalOrdersByState\\\n",
    "    .reduce(lambda a, b: a if a[1][0]/a[1][1] > b[1][0]/b[1][1] else b)"
   ]
  },
  {
   "cell_type": "code",
   "execution_count": 7,
   "id": "ea5b8f77",
   "metadata": {},
   "outputs": [
    {
     "name": "stdout",
     "output_type": "stream",
     "text": [
      "El Estado con más órdenes con descuentos es AE con 30858 órdenes con descuentos.\n",
      "\n",
      "El Estado con el mayor promedio de descuentos es KY con un promedio de 0.22.\n"
     ]
    }
   ],
   "source": [
    "print(f\"El Estado con más órdenes con descuentos es {highestCount[0]} con {highestCount[1][0]} órdenes con descuentos.\")\n",
    "\n",
    "print(f\"\\nEl Estado con el mayor promedio de descuentos es {highestAvg[0]} con un promedio de {highestAvg[1][0]/highestAvg[1][1]:.2f}.\")"
   ]
  },
  {
   "cell_type": "markdown",
   "id": "831cdfc0",
   "metadata": {},
   "source": [
    "### 2. ¿Cuáles son los 5 códigos postales más comunes para las órdenes con estado 'Refunded'? \n",
    "###    ¿Y cuál es el nombre más frecuente entre los clientes de esas direcciones?"
   ]
  },
  {
   "cell_type": "markdown",
   "id": "9f23b709",
   "metadata": {},
   "source": [
    "#### Hipótesis\n",
    "- Se tienen en cuenta los códgios postales de la columna `billing_address` de la tabla `orders`.\n",
    "- Se considera que el código postal está definido por cinco dígitos precedido de un espacio y un conjunto de dos letras mayúsculas (estado).\n",
    "- Se buscan los códigos postales con más apariciones entre las órdenes con estado `Refunded`\n",
    "- Las órdenes con estado `Refunded` son todas aquellas que tienen como valor de la columna `status` el string `REFUNDED`, sin diferenciar mayúsculas de minúsculas.\n",
    "- Para la búsqueda de nombres, se consideran a todos los usuarios de la tabla `customers` que tienen como valor de la columna `postal_code` alguno de los códigos postales encontrados."
   ]
  },
  {
   "cell_type": "markdown",
   "id": "24ef7842",
   "metadata": {},
   "source": [
    "#### Limpieza de datos para la tabla de usuarios"
   ]
  },
  {
   "cell_type": "code",
   "execution_count": 8,
   "id": "1ac37b9d",
   "metadata": {},
   "outputs": [],
   "source": [
    "def retain_customers_columns(row: Row):\n",
    "    first_name = \"UNDEFINED\" if row.first_name is None else row.first_name.strip().upper()\n",
    "    segment = \"UNDEFINED\" if row.customer_segment is None else row.customer_segment.strip().upper()\n",
    "    is_active = False if row.is_active is None else row.is_active\n",
    "    marketing_consent = False if row.marketing_consent is None else row.marketing_consent\n",
    "    return (\n",
    "        row.customer_id,\n",
    "        first_name,\n",
    "        row.postal_code,\n",
    "        segment,\n",
    "        is_active,\n",
    "        marketing_consent,\n",
    "    )\n",
    "    \n",
    "customersIdx = {\n",
    "    \"id\": 0,\n",
    "    \"name\": 1,\n",
    "    \"postal_code\": 2,\n",
    "    \"segment\": 3,\n",
    "    \"is_active\": 4,\n",
    "    \"consent\": 5,\n",
    "}"
   ]
  },
  {
   "cell_type": "code",
   "execution_count": 9,
   "id": "10e78365",
   "metadata": {},
   "outputs": [],
   "source": [
    "customers = sqlContext.read.csv(\n",
    "    'data/customers.csv',\n",
    "    header=True, inferSchema=True\n",
    ")\n",
    "customersRDD = customers.rdd.map(retain_customers_columns).cache()"
   ]
  },
  {
   "cell_type": "markdown",
   "id": "76ddad82",
   "metadata": {},
   "source": [
    "#### Resolución"
   ]
  },
  {
   "cell_type": "code",
   "execution_count": 10,
   "id": "a1d497c6",
   "metadata": {},
   "outputs": [
    {
     "name": "stderr",
     "output_type": "stream",
     "text": [
      "                                                                                \r"
     ]
    }
   ],
   "source": [
    "zipCodesWithMostRefundedOrdersCount = ordersRDD \\\n",
    "    .filter(\n",
    "        lambda row: (\n",
    "            row[ordersIdx[\"postal_code\"]] is not None\n",
    "            and row[ordersIdx[\"status\"]] == \"REFUNDED\"\n",
    "        )\n",
    "    ) \\\n",
    "    .map(lambda row: (row[ordersIdx[\"postal_code\"]], 1)) \\\n",
    "    .reduceByKey(lambda a, b: a + b) \\\n",
    "    .takeOrdered(5, key=lambda x: -x[1])\n",
    "\n",
    "topRefundedZipCodes = [postal_code for postal_code, _ in zipCodesWithMostRefundedOrdersCount]"
   ]
  },
  {
   "cell_type": "code",
   "execution_count": 11,
   "id": "f2b468ff",
   "metadata": {},
   "outputs": [
    {
     "name": "stderr",
     "output_type": "stream",
     "text": [
      "25/10/05 20:15:40 WARN CSVHeaderChecker: CSV header does not conform to the schema.\n",
      " Header: , customer_id, email, first_name, last_name, phone, date_of_birth, gender, country, city, postal_code, address, registration_date, last_login, is_active, customer_segment, marketing_consent\n",
      " Schema: _c0, customer_id, email, first_name, last_name, phone, date_of_birth, gender, country, city, postal_code, address, registration_date, last_login, is_active, customer_segment, marketing_consent\n",
      "Expected: _c0 but found: \n",
      "CSV file: file:///home/pat/Documents/GitHub/datos-tp2/data/customers.csv\n",
      "                                                                                \r"
     ]
    }
   ],
   "source": [
    "mostFrecuentNameInTopRefundedZipCodes = customersRDD \\\n",
    "    .filter(\n",
    "        lambda row: (\n",
    "            row[customersIdx[\"postal_code\"]] in topRefundedZipCodes\n",
    "            and row[customersIdx[\"name\"]] != \"UNDEFINED\"\n",
    "        )\n",
    "    ) \\\n",
    "    .map(lambda row: (row[customersIdx[\"name\"]], 1)) \\\n",
    "    .reduceByKey(lambda a, b: a + b) \\\n",
    "    .reduce(lambda a, b: a if a[1] > b[1] else b)"
   ]
  },
  {
   "cell_type": "code",
   "execution_count": 12,
   "id": "11149794",
   "metadata": {},
   "outputs": [
    {
     "name": "stdout",
     "output_type": "stream",
     "text": [
      "Los 5 códigos postales con más órdenes reembolsadas son:\n",
      "\tCodigo\tÓrdenes reembolsadas\n",
      "\t31571\t6\n",
      "\t14396\t5\n",
      "\t9045\t5\n",
      "\t38151\t5\n",
      "\t91623\t5\n",
      "\n",
      "El nombre más frecuente entre los clientes de esos códigos postales es: MICHAEL\n"
     ]
    }
   ],
   "source": [
    "print(\"Los 5 códigos postales con más órdenes reembolsadas son:\")\n",
    "print(\"\\tCodigo\\tÓrdenes reembolsadas\")\n",
    "for postal_code, count in zipCodesWithMostRefundedOrdersCount:\n",
    "    print(f\"\\t{postal_code}\\t{count}\")\n",
    "\n",
    "print(f\"\\nEl nombre más frecuente entre los clientes de esos códigos postales es: {mostFrecuentNameInTopRefundedZipCodes[0]}\")"
   ]
  },
  {
   "cell_type": "markdown",
   "id": "70a9fb10",
   "metadata": {},
   "source": [
    "### 3. Para cada tipo de pago y segmento de cliente, <br>devolver la suma y el promedio expresado como porcentaje <br>de clientes activos y de consentimiento de marketing"
   ]
  },
  {
   "cell_type": "markdown",
   "id": "e665bb40",
   "metadata": {},
   "source": [
    "#### Hipótesis\n",
    "- Se consideran valores únicos por combinación (usuario, método de pago). De esta forma no contamos dos compras del mismo usuario con el mismo método de pago."
   ]
  },
  {
   "cell_type": "markdown",
   "id": "450f049e",
   "metadata": {},
   "source": [
    "#### Resolución"
   ]
  },
  {
   "cell_type": "code",
   "execution_count": 13,
   "id": "03ea39e9",
   "metadata": {},
   "outputs": [],
   "source": [
    "clients_formated = customersRDD.map(lambda row: (row[customersIdx[\"id\"]], (row[customersIdx[\"segment\"]], row[customersIdx[\"is_active\"]], row[customersIdx[\"consent\"]])))\n",
    "orders_formated = ordersRDD.map(lambda row: (row[ordersIdx[\"customer_id\"]], row[ordersIdx[\"payment_method\"]]))\n",
    "\n",
    "clients_orders = clients_formated.join(orders_formated)\\\n",
    "    .map(\n",
    "        lambda x: (\n",
    "            (x[0], x[1][1]), # KEY = (customer_id, payment_method)\n",
    "            (x[1][0][1], x[1][0][2], x[1][0][0])     # VALUE = (is_active, consent, segment)\n",
    "        )\n",
    "    )\n",
    "# (customer_id, ((segment, is_active, consent), payment_method))\n",
    "\n",
    "# Me quedo con filas únicas por combinación de método de pago, customer_id\n",
    "# para no contar dos veces a un mismo cliente que hizo varias órdenes con el mismo método de pago\n",
    "# para un mismo customer_id, el segment is_active y consent siempre son los mismos\n",
    "clients_orders_unique = clients_orders.reduceByKey(lambda a, _: a)\n",
    "\n",
    "result = clients_orders_unique.map(\n",
    "        lambda x: (\n",
    "            (x[0][1], x[1][2]), # KEY = (payment_method, segment)\n",
    "            (1 if x[1][0] else 0, 1 if x[1][1] else 0, 1)     # VALUE = (is_active, consent, count)\n",
    "        )\n",
    "    ).reduceByKey(\n",
    "        lambda a, b: (\n",
    "            a[0] + b[0], \n",
    "            a[1] + b[1], \n",
    "            a[2] + b[2]\n",
    "        )\n",
    "    ).map(\n",
    "        lambda x: Row(\n",
    "            payment_method=x[0][0],\n",
    "            customer_segment=x[0][1],\n",
    "            active_count=x[1][0],\n",
    "            consent_count=x[1][1],\n",
    "            active_percentage=x[1][0]/x[1][2] * 100,\n",
    "            consent_percentage=x[1][1]/x[1][2] * 100,\n",
    "        )\n",
    "    )\n"
   ]
  },
  {
   "cell_type": "code",
   "execution_count": 14,
   "id": "9e376ac7",
   "metadata": {},
   "outputs": [
    {
     "name": "stderr",
     "output_type": "stream",
     "text": [
      "                                                                                \r"
     ]
    },
    {
     "name": "stdout",
     "output_type": "stream",
     "text": [
      "+----------------+----------------+------------+-------------+-----------------+------------------+\n",
      "|  payment_method|customer_segment|active_count|consent_count|active_percentage|consent_percentage|\n",
      "+----------------+----------------+------------+-------------+-----------------+------------------+\n",
      "|   BANK TRANSFER|          BUDGET|       16041|        12451|89.78004141713774| 69.68713270274807|\n",
      "|     CREDIT CARD|          BUDGET|       16039|        12448|89.77889728519452| 69.67814161768821|\n",
      "|CASH ON DELIVERY|         PREMIUM|       16437|        12807|89.87860892388451| 70.02952755905511|\n",
      "|          PAYPAL|         REGULAR|       49138|        38306|89.96338337605273| 70.13181984621018|\n",
      "|     CREDIT CARD|       UNDEFINED|        8232|         6367| 89.9770466717674| 69.59230516996394|\n",
      "|       UNDEFINED|         REGULAR|       48441|        37783|89.93873004084664| 70.15038989974006|\n",
      "|  DIGITAL WALLET|         REGULAR|       49127|        38299| 89.9663040691499| 70.13698128410797|\n",
      "|   BANK TRANSFER|         PREMIUM|       16441|        12808|89.88082221736278| 70.01968073474744|\n",
      "|      DEBIT CARD|         REGULAR|       49130|        38295|89.97179797091894| 70.12965608174926|\n",
      "|   BANK TRANSFER|         REGULAR|       49126|        38297|89.96447276856023| 70.13331868292862|\n",
      "|      DEBIT CARD|         PREMIUM|       16442|        12810|89.88628908812596| 70.03061447627378|\n",
      "|     CREDIT CARD|         REGULAR|       49132|        38301|89.96228073387776| 70.13036950232541|\n",
      "|       UNDEFINED|       UNDEFINED|        8123|         6287|  89.975631369074| 69.63890119627824|\n",
      "|  DIGITAL WALLET|       UNDEFINED|        8231|         6365|89.96611651546617| 69.57044485736145|\n",
      "|          PAYPAL|          BUDGET|       16039|        12446|89.78894922465432| 69.67474668308795|\n",
      "|  DIGITAL WALLET|          BUDGET|       16039|        12445|89.78894922465432| 69.66914851928567|\n",
      "|       UNDEFINED|          BUDGET|       15806|        12263| 89.8170246618934| 69.68405500625072|\n",
      "|          PAYPAL|       UNDEFINED|        8233|         6367|89.97814207650273|  69.5846994535519|\n",
      "|      DEBIT CARD|          BUDGET|       16034|        12441|89.77603583426652| 69.65845464725643|\n",
      "|CASH ON DELIVERY|       UNDEFINED|        8233|         6368|89.96830947437438|   69.588023166867|\n",
      "+----------------+----------------+------------+-------------+-----------------+------------------+\n",
      "only showing top 20 rows\n"
     ]
    }
   ],
   "source": [
    "df_result = spark.createDataFrame(result)\n",
    "df_result.show()"
   ]
  },
  {
   "cell_type": "markdown",
   "id": "e9df7ec5",
   "metadata": {},
   "source": [
    "### 4. Para los productos que contienen en su descripción la palabra \"stuff\", <br> calcular el peso total de su inventario agrupado por marca, <br> mostrar sólo la marca y el peso total de las 5 más pesadas"
   ]
  },
  {
   "cell_type": "markdown",
   "id": "b7226c11",
   "metadata": {},
   "source": [
    "#### Hipótesis\n",
    "- Los productos que tienen un valor nulo en el peso no son considerados (peso nulo = 0kg)."
   ]
  },
  {
   "cell_type": "markdown",
   "id": "600a84a1",
   "metadata": {},
   "source": [
    "#### Limpieza de datos para la tabla de productos"
   ]
  },
  {
   "cell_type": "code",
   "execution_count": 15,
   "id": "3d4882ee",
   "metadata": {},
   "outputs": [],
   "source": [
    "def retain_products_columns(row: Row):\n",
    "    brand = \"UNDEFINED\" if row.brand is None else row.brand.strip().upper()\n",
    "    weight = 0.0 if row.weight_kg is None else row.weight_kg\n",
    "    stock = 0 if row.stock_quantity is None else row.stock_quantity\n",
    "    is_stuff = False if row.description is None else (\"STUFF\" in row.description.upper())\n",
    "    return (\n",
    "        brand,\n",
    "        weight,\n",
    "        stock,\n",
    "        is_stuff,\n",
    "    )\n",
    "    \n",
    "productsIdx = {\n",
    "    \"brand\": 0,\n",
    "    \"weight\": 1,\n",
    "    \"stock\": 2,\n",
    "    \"is_stuff\": 3,\n",
    "}"
   ]
  },
  {
   "cell_type": "code",
   "execution_count": 16,
   "id": "f3d095ca",
   "metadata": {},
   "outputs": [
    {
     "name": "stderr",
     "output_type": "stream",
     "text": [
      "                                                                                \r"
     ]
    }
   ],
   "source": [
    "products = sqlContext.read.csv(\n",
    "    'data/products.csv',\n",
    "    header=True, inferSchema=True\n",
    ")\n",
    "productsRDD = products.rdd.map(retain_products_columns).cache()"
   ]
  },
  {
   "cell_type": "markdown",
   "id": "fe72be20",
   "metadata": {},
   "source": [
    "#### Resolución"
   ]
  },
  {
   "cell_type": "code",
   "execution_count": 17,
   "id": "3501f78a",
   "metadata": {},
   "outputs": [
    {
     "name": "stderr",
     "output_type": "stream",
     "text": [
      "25/10/05 20:15:55 WARN CSVHeaderChecker: CSV header does not conform to the schema.\n",
      " Header: , product_id, product_name, category_id, brand, price, cost, stock_quantity, weight_kg, dimensions, description, is_active, created_at\n",
      " Schema: _c0, product_id, product_name, category_id, brand, price, cost, stock_quantity, weight_kg, dimensions, description, is_active, created_at\n",
      "Expected: _c0 but found: \n",
      "CSV file: file:///home/pat/Documents/GitHub/datos-tp2/data/products.csv\n",
      "                                                                                \r"
     ]
    },
    {
     "data": {
      "text/plain": [
       "[('UNDEFINED', 23589.93),\n",
       " ('3M', 4250.86),\n",
       " ('WAYFAIR', 4080.17),\n",
       " ('ADIDAS', 4057.34),\n",
       " ('NIKE', 3614.96)]"
      ]
     },
     "execution_count": 17,
     "metadata": {},
     "output_type": "execute_result"
    }
   ],
   "source": [
    "stuff_products_weight_by_brand = productsRDD \\\n",
    "    .filter(lambda x: x[productsIdx[\"is_stuff\"]]) \\\n",
    "    .map(lambda x: (x[productsIdx[\"brand\"]], x[productsIdx[\"weight\"]])) \\\n",
    "    .reduceByKey(lambda a, b: a + b)\n",
    "    \n",
    "stuff_products_weight_by_brand.takeOrdered(5, key=lambda x: -x[1])"
   ]
  },
  {
   "cell_type": "markdown",
   "id": "d356097d",
   "metadata": {},
   "source": [
    "### 5. Calcular el porcentaje de productos cuyo stock es al menos 20% <br> más alto que el stock promedio de su marca"
   ]
  },
  {
   "cell_type": "markdown",
   "id": "5b470521",
   "metadata": {},
   "source": [
    "#### Resolución"
   ]
  },
  {
   "cell_type": "code",
   "execution_count": 18,
   "id": "7c918617",
   "metadata": {},
   "outputs": [],
   "source": [
    "avg_stock_by_brand = productsRDD \\\n",
    "    .map(lambda x: (x[productsIdx[\"brand\"]], (x[productsIdx[\"stock\"]], 1))) \\\n",
    "    .reduceByKey(lambda a, b: (a[0] + b[0], a[1] + b[1])) \\\n",
    "    .mapValues(lambda x: x[0]/x[1])\n",
    "\n",
    "result = productsRDD.map(lambda x: (x[productsIdx[\"brand\"]], x[productsIdx[\"stock\"]])) \\\n",
    "    .join(avg_stock_by_brand) \\\n",
    "    .mapValues(lambda x: (\n",
    "        1 if x[0] > x[1]*1.2 else 0,  # productos con stock > 20% del promedio\n",
    "        1\n",
    "    ))\\\n",
    "    .reduceByKey(lambda a, b: (a[0] + b[0], a[1] + b[1])) \\\n",
    "    .map(\n",
    "        lambda x: Row(\n",
    "            brand=x[0],\n",
    "            high_stock_products_percentage=x[1][0]/x[1][1] * 100\n",
    "        )\n",
    "    )"
   ]
  },
  {
   "cell_type": "code",
   "execution_count": 19,
   "id": "d1e7e4be",
   "metadata": {},
   "outputs": [
    {
     "name": "stderr",
     "output_type": "stream",
     "text": [
      "                                                                                \r"
     ]
    },
    {
     "name": "stdout",
     "output_type": "stream",
     "text": [
      "+---------------+------------------------------+\n",
      "|          brand|high_stock_products_percentage|\n",
      "+---------------+------------------------------+\n",
      "|         MARVEL|             41.70086639306885|\n",
      "|        CARTIER|            41.579673035257045|\n",
      "|       PEDIGREE|             41.59448818897638|\n",
      "|   UNDER ARMOUR|              41.8866291648637|\n",
      "|     SONY MUSIC|             42.24486495228854|\n",
      "|ELECTRONIC ARTS|            41.748333986671895|\n",
      "|   OFFICE DEPOT|            41.512014065247115|\n",
      "|         GIBSON|            41.732935719019224|\n",
      "|       GOODYEAR|             41.47498221484467|\n",
      "| LOCAL ARTISANS|            41.123439667128984|\n",
      "|      TRAVELPRO|             41.50008260366761|\n",
      "|        L'ORÉAL|             41.32231404958678|\n",
      "|     EPIC GAMES|             41.58187751967748|\n",
      "|        CASTROL|             42.18566392479436|\n",
      "|         PURINA|             41.81565355582042|\n",
      "|           TUMI|             41.40520694259012|\n",
      "|       CETAPHIL|            41.259842519685044|\n",
      "|   MICKEY MOUSE|             41.25795053003534|\n",
      "|     KITCHENAID|             40.98812187984163|\n",
      "|           VANS|             41.36323268206039|\n",
      "+---------------+------------------------------+\n",
      "only showing top 20 rows\n"
     ]
    }
   ],
   "source": [
    "df_result = spark.createDataFrame(result)\n",
    "df_result.show()"
   ]
  },
  {
   "cell_type": "markdown",
   "id": "d1cb2820",
   "metadata": {},
   "source": [
    "### 6. Obtener la cantidad de órdenes que no hayan comprado ninguno de los 10 productos más vendidos"
   ]
  },
  {
   "cell_type": "markdown",
   "id": "2d1d5e28",
   "metadata": {},
   "source": [
    "#### Hipótesis\n",
    "- Los productos más vendidos son aquellos que tienen mayor cantidad vendida (`quantity`) entre todas las órdenes que aperece"
   ]
  },
  {
   "cell_type": "markdown",
   "id": "78f45711",
   "metadata": {},
   "source": [
    "#### Limpieza y preparación de columnas de items"
   ]
  },
  {
   "cell_type": "code",
   "execution_count": 20,
   "id": "be8784cc",
   "metadata": {},
   "outputs": [],
   "source": [
    "def retain_items_columns(row: Row):\n",
    "    quantity = 0 if row.quantity is None else row.quantity\n",
    "    return (\n",
    "        row.order_id,\n",
    "        row.product_id,\n",
    "        quantity,\n",
    "    )\n",
    "    \n",
    "itemsIdx = {\n",
    "    \"order_id\": 0,\n",
    "    \"product_id\": 1,\n",
    "    \"quantity\": 2,\n",
    "}"
   ]
  },
  {
   "cell_type": "code",
   "execution_count": 21,
   "id": "8bdecec0",
   "metadata": {},
   "outputs": [],
   "source": [
    "items = sqlContext.read.csv(\n",
    "    'data/order_items.csv',\n",
    "    header=True, inferSchema=True\n",
    ")\n",
    "itemsRDD = items.rdd.map(retain_items_columns).cache()"
   ]
  },
  {
   "cell_type": "markdown",
   "id": "916d7d1e",
   "metadata": {},
   "source": [
    "#### Resolución"
   ]
  },
  {
   "cell_type": "code",
   "execution_count": 22,
   "id": "d981db88",
   "metadata": {},
   "outputs": [
    {
     "name": "stderr",
     "output_type": "stream",
     "text": [
      "25/10/05 20:16:03 WARN CSVHeaderChecker: CSV header does not conform to the schema.\n",
      " Header: , order_item_id, order_id, product_id, quantity, unit_price, line_total, discount_amount\n",
      " Schema: _c0, order_item_id, order_id, product_id, quantity, unit_price, line_total, discount_amount\n",
      "Expected: _c0 but found: \n",
      "CSV file: file:///home/pat/Documents/GitHub/datos-tp2/data/order_items.csv\n",
      "                                                                                \r"
     ]
    }
   ],
   "source": [
    "top_products_counts = itemsRDD \\\n",
    "    .map(lambda x: (x[itemsIdx[\"product_id\"]], x[itemsIdx[\"quantity\"]])) \\\n",
    "    .reduceByKey(lambda a, b: a + b) \\\n",
    "    .takeOrdered(10, key=lambda x: -x[1])\n",
    "top_products_ids = [product_id for product_id, _ in top_products_counts] # son solo 10 elementos\n",
    "\n",
    "not_top_products_orders = itemsRDD \\\n",
    "    .map(lambda x: (x[itemsIdx[\"order_id\"]], True if x[itemsIdx[\"product_id\"]] in top_products_ids else False)) \\\n",
    "    .reduceByKey(lambda a, b: a or b) \\\n",
    "    .filter(lambda x: not x[1]) \\\n",
    "    .count()\n"
   ]
  },
  {
   "cell_type": "code",
   "execution_count": 23,
   "id": "3c135717",
   "metadata": {},
   "outputs": [
    {
     "name": "stdout",
     "output_type": "stream",
     "text": [
      "La cantidad de órdenes que no contienen ninguno de los 10 productos más vendidos es: 99507\n"
     ]
    }
   ],
   "source": [
    "print(f\"La cantidad de órdenes que no contienen ninguno de los 10 productos más vendidos es: {not_top_products_orders}\")"
   ]
  }
 ],
 "metadata": {
  "kernelspec": {
   "display_name": "jupyter_env",
   "language": "python",
   "name": "python3"
  },
  "language_info": {
   "codemirror_mode": {
    "name": "ipython",
    "version": 3
   },
   "file_extension": ".py",
   "mimetype": "text/x-python",
   "name": "python",
   "nbconvert_exporter": "python",
   "pygments_lexer": "ipython3",
   "version": "3.11.13"
  }
 },
 "nbformat": 4,
 "nbformat_minor": 5
}
