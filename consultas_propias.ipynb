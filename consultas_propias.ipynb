{
 "cells": [
  {
   "cell_type": "code",
   "execution_count": 261,
   "id": "01a80780",
   "metadata": {},
   "outputs": [],
   "source": [
    "from pyspark.sql import *\n",
    "from pyspark.sql.functions import *\n",
    "from pyspark import SparkContext\n",
    "from pyspark.sql import SQLContext\n",
    "\n",
    "import re\n",
    "\n",
    "import warnings\n",
    "# suprimir future warnings\n",
    "warnings.simplefilter(action='ignore', category=FutureWarning)\n",
    "spark = SparkSession.builder\\\n",
    "    .master(\"local[*]\") \\\n",
    "    .getOrCreate()\n",
    "sc = spark.sparkContext\n",
    "sqlContext = SQLContext(sc)"
   ]
  },
  {
   "cell_type": "code",
   "execution_count": 262,
   "id": "97f6215c",
   "metadata": {},
   "outputs": [],
   "source": [
    "def parse_to_int(some_value):\n",
    "    if some_value is None:\n",
    "        return None\n",
    "    try:\n",
    "        return int(some_value)\n",
    "    except ValueError:\n",
    "        return None"
   ]
  },
  {
   "cell_type": "markdown",
   "id": "1407d095",
   "metadata": {},
   "source": [
    "# Consultas propias"
   ]
  },
  {
   "cell_type": "markdown",
   "id": "f3bd81ae",
   "metadata": {},
   "source": [
    "### 1. Monto total recaudado por ventas de los 5 productos con más reseñas positivas."
   ]
  },
  {
   "cell_type": "markdown",
   "id": "bd35545c",
   "metadata": {},
   "source": [
    "#### Hipótesis"
   ]
  },
  {
   "cell_type": "markdown",
   "id": "577dcfaa",
   "metadata": {},
   "source": [
    "- Se considera que una reseña es positiva cuando el rating de la misma es mayor que 3.\n",
    "- Si una reseña tiene un valor nulo en el *rating*, no se considera.\n",
    "- Si un *order_item* tiene valor nulo en *line_total*, el valor puede ser inferido a través del precio unitario y la cantidad comprada."
   ]
  },
  {
   "cell_type": "markdown",
   "id": "883549d3",
   "metadata": {},
   "source": [
    "#### Limpieza"
   ]
  },
  {
   "cell_type": "code",
   "execution_count": 263,
   "id": "ac39861e",
   "metadata": {},
   "outputs": [],
   "source": [
    "def retain_reviews_columns(row: Row):\n",
    "    rating = 0 if row.rating is None else row.rating\n",
    "    return (\n",
    "        parse_to_int(row.product_id),\n",
    "        rating,\n",
    "    )\n",
    "    \n",
    "reviewsIdx = {\n",
    "    \"product_id\": 0,\n",
    "    \"rating\": 1,\n",
    "}"
   ]
  },
  {
   "cell_type": "code",
   "execution_count": 264,
   "id": "59d5c2cf",
   "metadata": {},
   "outputs": [],
   "source": [
    "reviews = sqlContext.read.csv(\n",
    "    'data/reviews.csv',\n",
    "    header=True, inferSchema=True\n",
    ")\n",
    "reviewsRDD = reviews.rdd.map(retain_reviews_columns).cache()"
   ]
  },
  {
   "cell_type": "code",
   "execution_count": 290,
   "id": "8a973849",
   "metadata": {},
   "outputs": [],
   "source": [
    "def retain_products_columns(row: Row):\n",
    "    product_name = \"UNDEFINED\" if row.product_name is None else row.product_name\n",
    "    brand = \"UNDEFINED\" if row.brand is None else row.brand\n",
    "    brand = brand.strip().upper()\n",
    "    return (\n",
    "        parse_to_int(row.product_id),\n",
    "        product_name,\n",
    "        brand,\n",
    "        parse_to_int(row.category_id),\n",
    "    )\n",
    "    \n",
    "productsIdx = {\n",
    "    \"id\": 0,\n",
    "    \"name\": 1,\n",
    "    \"brand\": 2,\n",
    "    \"category_id\": 3,\n",
    "}"
   ]
  },
  {
   "cell_type": "code",
   "execution_count": 291,
   "id": "00030eb8",
   "metadata": {},
   "outputs": [],
   "source": [
    "products = sqlContext.read.csv(\n",
    "    'data/products.csv',\n",
    "    header=True, inferSchema=True\n",
    ")\n",
    "productsRDD = products.rdd.map(retain_products_columns).cache()"
   ]
  },
  {
   "cell_type": "code",
   "execution_count": 267,
   "id": "c85f8a35",
   "metadata": {},
   "outputs": [],
   "source": [
    "def retain_items_columns(row: Row):\n",
    "    qty = parse_to_int(row.quantity)\n",
    "    quantity = 0 if qty is None else qty\n",
    "    line_total = row.line_total if row.line_total is not None else infer_line_total(row)\n",
    "    return (\n",
    "        parse_to_int(row.product_id),\n",
    "        quantity,\n",
    "        line_total\n",
    "    )\n",
    "    \n",
    "def infer_line_total(row: Row):\n",
    "    u_price = parse_to_int(row.unit_price)\n",
    "    qty = parse_to_int(row.quantity)\n",
    "    if (\n",
    "        u_price is not None\n",
    "        and qty is not None\n",
    "    ):\n",
    "        return u_price * qty\n",
    "    else:\n",
    "        return 0.0\n",
    "    \n",
    "itemsIdx = {\n",
    "    \"product_id\": 0,\n",
    "    \"quantity\": 1,\n",
    "    \"line_total\": 2,\n",
    "}"
   ]
  },
  {
   "cell_type": "code",
   "execution_count": 268,
   "id": "89d73be4",
   "metadata": {},
   "outputs": [],
   "source": [
    "items = sqlContext.read.csv(\n",
    "    'data/order_items.csv',\n",
    "    header=True, inferSchema=True\n",
    ")\n",
    "itemsRDD = items.rdd.map(retain_items_columns).cache()"
   ]
  },
  {
   "cell_type": "markdown",
   "id": "05c9b33d",
   "metadata": {},
   "source": [
    "#### Resolución"
   ]
  },
  {
   "cell_type": "code",
   "execution_count": 269,
   "id": "7d42e306",
   "metadata": {},
   "outputs": [
    {
     "name": "stderr",
     "output_type": "stream",
     "text": [
      "25/10/05 00:55:06 WARN CSVHeaderChecker: CSV header does not conform to the schema.\n",
      " Header: , review_id, customer_id, product_id, rating, title, comment, is_verified_purchase, helpful_votes, created_at\n",
      " Schema: _c0, review_id, customer_id, product_id, rating, title, comment, is_verified_purchase, helpful_votes, created_at\n",
      "Expected: _c0 but found: \n",
      "CSV file: file:///home/pat/Documents/GitHub/datos-tp2/data/reviews.csv\n",
      "                                                                                \r"
     ]
    }
   ],
   "source": [
    "# no hay missing values en reviews.rating\n",
    "top_5_products = reviewsRDD.filter(lambda row: row[reviewsIdx[\"rating\"]] > 3) \\\n",
    "    .map(lambda row: (row[reviewsIdx[\"product_id\"]], 1)) \\\n",
    "    .reduceByKey(lambda a, b: a + b) \\\n",
    "    .takeOrdered(5, key=lambda x: -x[1])"
   ]
  },
  {
   "cell_type": "code",
   "execution_count": 270,
   "id": "06e6e6c0",
   "metadata": {},
   "outputs": [
    {
     "name": "stderr",
     "output_type": "stream",
     "text": [
      "25/10/05 00:55:08 WARN CSVHeaderChecker: CSV header does not conform to the schema.\n",
      " Header: , order_item_id, order_id, product_id, quantity, unit_price, line_total, discount_amount\n",
      " Schema: _c0, order_item_id, order_id, product_id, quantity, unit_price, line_total, discount_amount\n",
      "Expected: _c0 but found: \n",
      "CSV file: file:///home/pat/Documents/GitHub/datos-tp2/data/order_items.csv\n",
      "                                                                                \r"
     ]
    }
   ],
   "source": [
    "top_5_products_ids = [prod[0] for prod in top_5_products]\n",
    "top_5_products_sells = itemsRDD.filter(lambda row: row[itemsIdx[\"product_id\"]] in top_5_products_ids) \\\n",
    "    .map(lambda row: (row[itemsIdx[\"product_id\"]], row[itemsIdx[\"line_total\"]])) \\\n",
    "    .reduceByKey(lambda a, b: a + b) \\\n",
    "    .collect()"
   ]
  },
  {
   "cell_type": "code",
   "execution_count": 271,
   "id": "65692e67",
   "metadata": {},
   "outputs": [
    {
     "name": "stderr",
     "output_type": "stream",
     "text": [
      "25/10/05 00:55:09 WARN CSVHeaderChecker: CSV header does not conform to the schema.\n",
      " Header: , product_id, product_name, category_id, brand, price, cost, stock_quantity, weight_kg, dimensions, description, is_active, created_at\n",
      " Schema: _c0, product_id, product_name, category_id, brand, price, cost, stock_quantity, weight_kg, dimensions, description, is_active, created_at\n",
      "Expected: _c0 but found: \n",
      "CSV file: file:///home/pat/Documents/GitHub/datos-tp2/data/products.csv\n",
      "                                                                                \r"
     ]
    }
   ],
   "source": [
    "top_5_products_names = productsRDD.filter(lambda row: row[productsIdx[\"id\"]] in top_5_products_ids) \\\n",
    "    .map(lambda row: (row[productsIdx[\"id\"]], row[productsIdx[\"name\"]])) \\\n",
    "    .collectAsMap()"
   ]
  },
  {
   "cell_type": "code",
   "execution_count": null,
   "id": "2732fb4e",
   "metadata": {},
   "outputs": [
    {
     "name": "stdout",
     "output_type": "stream",
     "text": [
      "Top 5 productos con más reseñas positivas y monto de sus ventas totales:\n",
      "Producto Fully-configurable high-level circuit: $8320.50\n",
      "Producto Persevering logistical help-desk: $12220.00\n",
      "Producto Innovative solution-oriented installation: $291.20\n",
      "Producto Seamless radical architecture: $13547.28\n",
      "Producto Robust cohesive utilization: $271.51\n"
     ]
    }
   ],
   "source": [
    "print(\"Top 5 productos con más reseñas positivas y monto de sus ventas totales:\")\n",
    "for prod in top_5_products_sells:\n",
    "    print(f\"Producto {top_5_products_names[prod[0]]}: ${prod[1]:.2f}\")"
   ]
  },
  {
   "cell_type": "markdown",
   "id": "29d282cf",
   "metadata": {},
   "source": [
    "### 2. Durante 2024 ¿Qué porcentaje de las órdenes `REFUNDED` fueron órdenes con descuento? ¿La mayoría eran de usuarios activos? ¿Qué segmento de usuario realizó la mayor cantidad de reembolsos? "
   ]
  },
  {
   "cell_type": "markdown",
   "id": "fd32e654",
   "metadata": {},
   "source": [
    "#### Hipótesis"
   ]
  },
  {
   "cell_type": "markdown",
   "id": "b0ff79a3",
   "metadata": {},
   "source": [
    "- Si el valor del campo *discount_amount* en *orders* es nulo, se asume que la órden no tuvo descuento.\n",
    "- Si el usuario de una órden no está en la tabla de *customers*, se asume que no es usuario activo."
   ]
  },
  {
   "cell_type": "markdown",
   "id": "69d25f83",
   "metadata": {},
   "source": [
    "#### Limpieza"
   ]
  },
  {
   "cell_type": "code",
   "execution_count": 274,
   "id": "3d7c5539",
   "metadata": {},
   "outputs": [],
   "source": [
    "import pandas as pd\n",
    "def retain_orders_columns(row: Row):\n",
    "    datetime = get_orders_datetime(row)\n",
    "    year = datetime.year if datetime is not None else None\n",
    "    status = \"UNDEFINED\" if row.status is None else row.status.strip().upper()\n",
    "    discount = 0.0 if row.discount_amount is None else row.discount_amount\n",
    "    return (\n",
    "        row.customer_id,\n",
    "        discount,\n",
    "        status,\n",
    "        year,\n",
    "    )\n",
    "    \n",
    "def get_orders_datetime(row: Row):\n",
    "    return pd.to_datetime(row.order_date, format=\"%Y-%m-%dT%H:%M:%S.%f\", errors=\"coerce\")\n",
    "    \n",
    "ordersIdx = {\n",
    "    \"customer_id\": 0,\n",
    "    \"discount_amount\": 1,\n",
    "    \"status\": 2,\n",
    "    \"year\": 3,\n",
    "}"
   ]
  },
  {
   "cell_type": "code",
   "execution_count": 275,
   "id": "a067c9f5",
   "metadata": {},
   "outputs": [
    {
     "name": "stderr",
     "output_type": "stream",
     "text": [
      "                                                                                \r"
     ]
    }
   ],
   "source": [
    "orders = sqlContext.read.csv(\n",
    "    'data/orders.csv',\n",
    "    header=True, inferSchema=True\n",
    ")\n",
    "ordersRDD = orders.rdd.map(retain_orders_columns)"
   ]
  },
  {
   "cell_type": "code",
   "execution_count": 276,
   "id": "53bebd77",
   "metadata": {},
   "outputs": [],
   "source": [
    "def retain_customers_columns(row: Row):\n",
    "    segment = \"UNDEFINED\" if row.customer_segment is None else row.customer_segment.strip().upper()\n",
    "    is_active = False if row.is_active is None else row.is_active\n",
    "    return (\n",
    "        row.customer_id,\n",
    "        segment,\n",
    "        is_active,\n",
    "    )\n",
    "    \n",
    "customersIdx = {\n",
    "    \"id\": 0,\n",
    "    \"segment\": 1,\n",
    "    \"is_active\": 2,\n",
    "}"
   ]
  },
  {
   "cell_type": "code",
   "execution_count": 277,
   "id": "d077924d",
   "metadata": {},
   "outputs": [],
   "source": [
    "customers = sqlContext.read.csv(\n",
    "    'data/customers.csv',\n",
    "    header=True, inferSchema=True\n",
    ")\n",
    "customersRDD = customers.rdd.map(retain_customers_columns).cache()"
   ]
  },
  {
   "cell_type": "markdown",
   "id": "bc9e8a81",
   "metadata": {},
   "source": [
    "#### Resolución"
   ]
  },
  {
   "cell_type": "code",
   "execution_count": 278,
   "id": "0873b846",
   "metadata": {},
   "outputs": [],
   "source": [
    "orders_user_active_and_segment = ordersRDD \\\n",
    "    .filter(lambda row: row[ordersIdx[\"status\"]] == \"REFUNDED\" and row[ordersIdx[\"year\"]] == 2024) \\\n",
    "    .map(lambda row: (row[ordersIdx[\"customer_id\"]], row)) \\\n",
    "    .leftOuterJoin(customersRDD.map(lambda row: (row[customersIdx[\"id\"]], row))) \\\n",
    "    .map(lambda row: (\n",
    "        row[1][0][ordersIdx[\"discount_amount\"]],\n",
    "        row[1][0][ordersIdx[\"status\"]],\n",
    "        row[1][0][ordersIdx[\"year\"]],\n",
    "        row[1][1][customersIdx[\"segment\"]] if row[1][1] is not None else \"UNDEFINED\",\n",
    "        row[1][1][customersIdx[\"is_active\"]] if row[1][1] is not None else False,\n",
    "    )).cache()\n"
   ]
  },
  {
   "cell_type": "code",
   "execution_count": 279,
   "id": "9660064c",
   "metadata": {},
   "outputs": [
    {
     "name": "stderr",
     "output_type": "stream",
     "text": [
      "25/10/05 00:55:19 WARN CSVHeaderChecker: CSV header does not conform to the schema.\n",
      " Header: , order_id, customer_id, order_date, status, payment_method, shipping_address, billing_address, discount_amount, tax_amount, shipping_cost, total_amount, currency, created_at, updated_at, subtotal\n",
      " Schema: _c0, order_id, customer_id, order_date, status, payment_method, shipping_address, billing_address, discount_amount, tax_amount, shipping_cost, total_amount, currency, created_at, updated_at, subtotal\n",
      "Expected: _c0 but found: \n",
      "CSV file: file:///home/pat/Documents/GitHub/datos-tp2/data/orders.csv\n",
      "25/10/05 00:56:56 WARN CSVHeaderChecker: CSV header does not conform to the schema.\n",
      " Header: , customer_id, email, first_name, last_name, phone, date_of_birth, gender, country, city, postal_code, address, registration_date, last_login, is_active, customer_segment, marketing_consent\n",
      " Schema: _c0, customer_id, email, first_name, last_name, phone, date_of_birth, gender, country, city, postal_code, address, registration_date, last_login, is_active, customer_segment, marketing_consent\n",
      "Expected: _c0 but found: \n",
      "CSV file: file:///home/pat/Documents/GitHub/datos-tp2/data/customers.csv\n",
      "                                                                                \r"
     ]
    }
   ],
   "source": [
    "discount_total_and_active_users = orders_user_active_and_segment \\\n",
    "    .map(\n",
    "        lambda row: (\n",
    "            1 if row[0] > 0 else 0, # tiene descuento\n",
    "            1 if row[4] else 0, # es de usuario activo\n",
    "            1,  # ordenes totales\n",
    "        )\n",
    "    ).reduce(lambda a, b: (a[0] + b[0], a[1] + b[1], a[2] + b[2]))\n",
    "\n",
    "discount_refunded_orders_percentaje = (discount_total_and_active_users[0] / discount_total_and_active_users[2]) * 100\n",
    "active_user_percentaje = (discount_total_and_active_users[1] / discount_total_and_active_users[2]) * 100\n",
    "    "
   ]
  },
  {
   "cell_type": "code",
   "execution_count": 280,
   "id": "82a463af",
   "metadata": {},
   "outputs": [],
   "source": [
    "most_refunded_segment = orders_user_active_and_segment \\\n",
    "    .map(lambda row: (row[3], 1)) \\\n",
    "    .reduceByKey(lambda a, b: a + b) \\\n",
    "    .reduce(lambda a, b: a if a[1] > b[1] else b)"
   ]
  },
  {
   "cell_type": "code",
   "execution_count": 281,
   "id": "d476bb85",
   "metadata": {},
   "outputs": [
    {
     "data": {
      "text/plain": [
       "90.21286097052695"
      ]
     },
     "execution_count": 281,
     "metadata": {},
     "output_type": "execute_result"
    }
   ],
   "source": [
    "active_user_percentaje"
   ]
  },
  {
   "cell_type": "code",
   "execution_count": 282,
   "id": "09045586",
   "metadata": {},
   "outputs": [
    {
     "name": "stdout",
     "output_type": "stream",
     "text": [
      "El 21.29% de las órdenes REFUNDED durante 2024 fueron órdenes con descuento.\n",
      "La mayoría eran de usuarios activos.\n",
      "El segmento que más órdenes REFUNDED tuvo fue REGULAR con 7284 órdenes.\n"
     ]
    }
   ],
   "source": [
    "print(f\"El {discount_refunded_orders_percentaje:.2f}% de las órdenes REFUNDED durante 2024 fueron órdenes con descuento.\")\n",
    "print(\"La mayoría eran de usuarios activos.\" if active_user_percentaje > 50 else \"La mayoría no eran de usuarios activos.\")\n",
    "print(f\"El segmento que más órdenes REFUNDED tuvo fue {most_refunded_segment[0]} con {most_refunded_segment[1]} órdenes.\")"
   ]
  },
  {
   "cell_type": "markdown",
   "id": "a5413ad6",
   "metadata": {},
   "source": [
    "### 3. ¿Cuáles son las 3 marcas que vendieron menos unidades de productos durante 2025? Mostrar los nombres de los productos que más ingresos generaron de esas marcas."
   ]
  },
  {
   "cell_type": "markdown",
   "id": "a77d7e43",
   "metadata": {},
   "source": [
    "#### Hipótesis"
   ]
  },
  {
   "cell_type": "markdown",
   "id": "99c3b506",
   "metadata": {},
   "source": [
    "#### Limpieza"
   ]
  },
  {
   "cell_type": "markdown",
   "id": "ce440e39",
   "metadata": {},
   "source": [
    "#### Resolución"
   ]
  },
  {
   "cell_type": "code",
   "execution_count": 292,
   "id": "fafcb1bf",
   "metadata": {},
   "outputs": [],
   "source": [
    "items_products_joined = itemsRDD \\\n",
    "    .map(\n",
    "        lambda row: (\n",
    "            row[itemsIdx[\"product_id\"]], \n",
    "            (row[itemsIdx[\"quantity\"]], row[itemsIdx[\"line_total\"]])\n",
    "        )\n",
    "    ).join(productsRDD.map( # como me interesa la información de marca, hago inner join\n",
    "        lambda row: (row[productsIdx[\"id\"]], (row[productsIdx[\"brand\"]]))\n",
    "    )).cache()"
   ]
  },
  {
   "cell_type": "code",
   "execution_count": 293,
   "id": "d22d8e63",
   "metadata": {},
   "outputs": [
    {
     "name": "stderr",
     "output_type": "stream",
     "text": [
      "25/10/05 01:00:24 WARN CSVHeaderChecker: CSV header does not conform to the schema.\n",
      " Header: , product_id, product_name, category_id, brand, price, cost, stock_quantity, weight_kg, dimensions, description, is_active, created_at\n",
      " Schema: _c0, product_id, product_name, category_id, brand, price, cost, stock_quantity, weight_kg, dimensions, description, is_active, created_at\n",
      "Expected: _c0 but found: \n",
      "CSV file: file:///home/pat/Documents/GitHub/datos-tp2/data/products.csv\n",
      "                                                                                \r"
     ]
    },
    {
     "data": {
      "text/plain": [
       "[(945804, ((10, 9550.9), 'IKEA')),\n",
       " (945804, ((8, 7640.72), 'IKEA')),\n",
       " (945804, ((8, 7640.72), 'IKEA')),\n",
       " (945804, ((2, 1910.18), 'IKEA')),\n",
       " (965772, ((7, 834.54), 'UNDER ARMOUR'))]"
      ]
     },
     "execution_count": 293,
     "metadata": {},
     "output_type": "execute_result"
    }
   ],
   "source": [
    "items_products_joined.take(5)"
   ]
  },
  {
   "cell_type": "code",
   "execution_count": null,
   "id": "6a3b702f",
   "metadata": {},
   "outputs": [
    {
     "name": "stderr",
     "output_type": "stream",
     "text": [
      "                                                                                \r"
     ]
    }
   ],
   "source": [
    "less_sells_brands = items_products_joined.map(\n",
    "        lambda row: (\n",
    "            row[1][1], # brand\n",
    "            row[1][0][0], # quantity\n",
    "        )\n",
    "    ).reduceByKey(lambda a, b: a + b) \\\n",
    "    .takeOrdered(3, key=lambda x: x[1])\n",
    "less_sells_brands_names = [brand[0] for brand in less_sells_brands]"
   ]
  },
  {
   "cell_type": "code",
   "execution_count": 295,
   "id": "494f65b4",
   "metadata": {},
   "outputs": [
    {
     "data": {
      "text/plain": [
       "[('APPLE', 4942), ('ASHLEY FURNITURE', 5132), ('CASTROL', 5135)]"
      ]
     },
     "execution_count": 295,
     "metadata": {},
     "output_type": "execute_result"
    }
   ],
   "source": [
    "less_sells_brands"
   ]
  },
  {
   "cell_type": "code",
   "execution_count": null,
   "id": "3ef1684b",
   "metadata": {},
   "outputs": [],
   "source": [
    "itemsRDD.join(productsRDD.map(\n",
    "    lambda row: (row[productsIdx[\"id\"]], (row[productsIdx[\"brand\"]]))\n",
    ")).filter(\n",
    "    lambda row: row[1][1] in less_sells_brands_names\n",
    ").map(\n",
    "    lambda row: (((row[1][1], row[0]), row[1][0][1])) # (brand, product_id), line_total\n",
    ").reduceByKey(lambda a, b: a + b) \\\n",
    ".collect()"
   ]
  },
  {
   "cell_type": "markdown",
   "id": "842df33e",
   "metadata": {},
   "source": [
    "### 4. Rating promedio de los productos pertenecientes a la categoría más vendida durante 2024."
   ]
  },
  {
   "cell_type": "markdown",
   "id": "61494880",
   "metadata": {},
   "source": [
    "#### Hipótesis"
   ]
  },
  {
   "cell_type": "markdown",
   "id": "e022ac5b",
   "metadata": {},
   "source": [
    "#### Limpieza"
   ]
  },
  {
   "cell_type": "markdown",
   "id": "c6a1d78a",
   "metadata": {},
   "source": [
    "#### Resolución"
   ]
  },
  {
   "cell_type": "markdown",
   "id": "d2663565",
   "metadata": {},
   "source": [
    "### 5. Obtener los 3 productos de tecnología con más movimientos por daños, y el promedio de cambios en la cantidad para los movimientos dañados."
   ]
  },
  {
   "cell_type": "markdown",
   "id": "436f7cb8",
   "metadata": {},
   "source": [
    "#### Hipótesis"
   ]
  },
  {
   "cell_type": "markdown",
   "id": "5106ca8d",
   "metadata": {},
   "source": [
    "#### Limpieza"
   ]
  },
  {
   "cell_type": "markdown",
   "id": "a533cd53",
   "metadata": {},
   "source": [
    "#### Resolución"
   ]
  }
 ],
 "metadata": {
  "kernelspec": {
   "display_name": "base",
   "language": "python",
   "name": "python3"
  },
  "language_info": {
   "codemirror_mode": {
    "name": "ipython",
    "version": 3
   },
   "file_extension": ".py",
   "mimetype": "text/x-python",
   "name": "python",
   "nbconvert_exporter": "python",
   "pygments_lexer": "ipython3",
   "version": "3.13.5"
  }
 },
 "nbformat": 4,
 "nbformat_minor": 5
}
